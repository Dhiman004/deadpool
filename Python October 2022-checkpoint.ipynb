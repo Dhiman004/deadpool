{
 "cells": [
  {
   "cell_type": "code",
   "execution_count": 3,
   "id": "cd6e6e78",
   "metadata": {},
   "outputs": [
    {
     "name": "stdout",
     "output_type": "stream",
     "text": [
      "addition operation executed and result is 14\n",
      "sub.operation executed and result is 6\n",
      "multiplication operation executed and result is 40\n",
      "float operation executed and result is 2.5\n",
      "floor operation executed and result is 2\n",
      "exponantion operation executed and result is 10000\n",
      "modulas operation executed and result is 2\n"
     ]
    }
   ],
   "source": [
    "a = 10\n",
    "b = 4\n",
    "\n",
    "\n",
    "add = a + b\n",
    "print(\"addition operation executed and result is\", add)\n",
    "\n",
    "diff = a - b\n",
    "print(\"sub.operation executed and result is\",diff)\n",
    "\n",
    "multi = a * b\n",
    "print(\"multiplication operation executed and result is\", multi)\n",
    "\n",
    "FLP = a / b\n",
    "print(\"float operation executed and result is\",FLP)\n",
    "\n",
    "floor = a//b\n",
    "print(\"floor operation executed and result is\",floor)\n",
    "\n",
    "exponantion = a**b\n",
    "print(\"exponantion operation executed and result is\",exponantion)\n",
    "\n",
    "modulas = a%b\n",
    "print(\"modulas operation executed and result is\",modulas)"
   ]
  },
  {
   "cell_type": "code",
   "execution_count": null,
   "id": "ef80fd69",
   "metadata": {},
   "outputs": [],
   "source": [
    "a = input(\"enter the value of a\")\n",
    "b = input(\"enter the value of b\")\n",
    "\n",
    "add = int(a)+int(b)\n",
    "\n",
    "print(\"addition of a and b =\",add)"
   ]
  },
  {
   "cell_type": "code",
   "execution_count": 9,
   "id": "b58450d6",
   "metadata": {
    "scrolled": true
   },
   "outputs": [
    {
     "name": "stdout",
     "output_type": "stream",
     "text": [
      "<class 'bool'>\n",
      "<class 'bool'>\n"
     ]
    }
   ],
   "source": [
    "a = True\n",
    "b = False\n",
    "print(type(a))\n",
    "print(type(b))"
   ]
  },
  {
   "cell_type": "code",
   "execution_count": 24,
   "id": "cb4f7400",
   "metadata": {},
   "outputs": [
    {
     "name": "stdout",
     "output_type": "stream",
     "text": [
      "False\n",
      "True\n",
      "False\n",
      "True\n",
      "False\n",
      "True\n"
     ]
    }
   ],
   "source": [
    "#Relational operator\n",
    "a = 10\n",
    "b = 20\n",
    "\n",
    "print(a>b)\n",
    "print(a<b)\n",
    "print(a>=b)\n",
    "print(a<=b)\n",
    "print(a==b)\n",
    "\n",
    "print(a!=b)"
   ]
  },
  {
   "cell_type": "code",
   "execution_count": 5,
   "id": "4f7dc592",
   "metadata": {},
   "outputs": [
    {
     "name": "stdout",
     "output_type": "stream",
     "text": [
      "False\n",
      "True\n"
     ]
    }
   ],
   "source": [
    "#logical operator\n",
    "a = 67\n",
    "b = 89\n",
    "c = a>67\n",
    "d = b>67\n",
    "\n",
    "print(c and d)\n",
    "print(c or d)\n",
    "\n"
   ]
  },
  {
   "cell_type": "code",
   "execution_count": 6,
   "id": "f7b9be67",
   "metadata": {},
   "outputs": [
    {
     "name": "stdout",
     "output_type": "stream",
     "text": [
      "True\n"
     ]
    }
   ],
   "source": [
    "#logical operators\n",
    "a = 67\n",
    "b = 89\n",
    "c = a>67\n",
    "d = b>67\n",
    "\n",
    "even = not(c)\n",
    "print(even)"
   ]
  },
  {
   "cell_type": "code",
   "execution_count": 8,
   "id": "8b8a2a65",
   "metadata": {},
   "outputs": [
    {
     "name": "stdout",
     "output_type": "stream",
     "text": [
      "else construct activated \n",
      "line 5\n",
      "line 6\n",
      "demo of if-else constructive\n",
      "program ended\n"
     ]
    }
   ],
   "source": [
    "a = False\n",
    "\n",
    "if a:\n",
    "    print(\"if construct activated\")\n",
    "    print(\"line 1\")\n",
    "    print(\"line 2\")\n",
    "    print(\"line 3\")\n",
    "    print(\"line 4\")\n",
    "else:\n",
    "    print(\"else construct activated \")\n",
    "    print(\"line 5\")\n",
    "    print(\"line 6\")\n",
    "print(\"demo of if-else constructive\")\n",
    "print(\"program ended\")\n",
    "    \n"
   ]
  },
  {
   "cell_type": "code",
   "execution_count": 5,
   "id": "12c18b62",
   "metadata": {},
   "outputs": [
    {
     "name": "stdout",
     "output_type": "stream",
     "text": [
      "Enter any number2\n",
      "num is even\n"
     ]
    }
   ],
   "source": [
    "num = (int)(input(\"Enter any number\"))\n",
    "\n",
    "if num%2==0:\n",
    "    print(\"num is even\")\n",
    "else:\n",
    "    print(\"num is odd\")\n"
   ]
  },
  {
   "cell_type": "code",
   "execution_count": 1,
   "id": "30042e90",
   "metadata": {},
   "outputs": [
    {
     "name": "stdout",
     "output_type": "stream",
     "text": [
      "3\n",
      "4\n",
      "6\n",
      "4.333333333333333\n"
     ]
    }
   ],
   "source": [
    "a = int(input())\n",
    "b = int(input())\n",
    "c = int(input())\n",
    "\n",
    "AVG = (a+b+c)/3\n",
    "print(AVG)"
   ]
  },
  {
   "cell_type": "code",
   "execution_count": 9,
   "id": "7537e15f",
   "metadata": {},
   "outputs": [
    {
     "name": "stdout",
     "output_type": "stream",
     "text": [
      "enter a number100\n",
      "100 is entered by the user\n"
     ]
    }
   ],
   "source": [
    "number  = int(input(\"enter a number\"))\n",
    "if number == 10:\n",
    "    print(\"10 is entered by the user\")\n",
    "elif number == 50:\n",
    "    print(\"50 is entered by the user\")\n",
    "elif number == 100:\n",
    "    print(\"100 is entered by the user\")\n",
    "else:\n",
    "    print(\"its a diffrent value other than 10, 50 100\")"
   ]
  },
  {
   "cell_type": "code",
   "execution_count": 11,
   "id": "ada8b7a5",
   "metadata": {},
   "outputs": [
    {
     "name": "stdout",
     "output_type": "stream",
     "text": [
      "enter the marks86\n",
      "congrats you scored grade A\n"
     ]
    }
   ],
   "source": [
    "marks = int(input(\"enter the marks\"))\n",
    "if marks >85 and marks <=100:\n",
    "    print(\"congrats you scored grade A\")\n",
    "elif marks >60 and marks <= 85:\n",
    "    print(\"you scored grade B+\")\n",
    "elif marks >40 and marks <=60:\n",
    "    print(\"you scored grade B\")\n",
    "elif marks >30 and marks <=40:\n",
    "    print(\"you scored grade C\")\n",
    "else:\n",
    "    print(\"sorry you are fail\")"
   ]
  },
  {
   "cell_type": "code",
   "execution_count": 21,
   "id": "0eaa1130",
   "metadata": {},
   "outputs": [
    {
     "name": "stdout",
     "output_type": "stream",
     "text": [
      "enter value of n15\n",
      "enter value of m10\n",
      "3\n"
     ]
    }
   ],
   "source": [
    "n = int(input(\"enter value of n\"))\n",
    "m = int(input(\"enter value of m\"))\n",
    "\n",
    "if n%2 == 0:\n",
    "    if m%2 == 0:\n",
    "        print(1)\n",
    "    else:\n",
    "        print(2)\n",
    "    \n",
    "else:\n",
    "    print(3)"
   ]
  },
  {
   "cell_type": "code",
   "execution_count": 28,
   "id": "b0104576",
   "metadata": {},
   "outputs": [
    {
     "name": "stdout",
     "output_type": "stream",
     "text": [
      "enter the value 20\n",
      "ram\n",
      "ram\n",
      "ram\n",
      "ram\n",
      "ram\n",
      "ram\n",
      "ram\n",
      "ram\n",
      "ram\n",
      "ram\n",
      "ram\n",
      "ram\n",
      "ram\n",
      "ram\n",
      "ram\n",
      "ram\n",
      "ram\n",
      "ram\n",
      "ram\n",
      "ram\n",
      "over\n"
     ]
    }
   ],
   "source": [
    "n = int(input(\"enter the value \"))\n",
    "x = 1\n",
    "while x<=n:\n",
    "    print(\"ram\")\n",
    "    x = x + 1\n",
    "print(\"over\")"
   ]
  },
  {
   "cell_type": "code",
   "execution_count": 29,
   "id": "83e820ee",
   "metadata": {},
   "outputs": [
    {
     "name": "stdout",
     "output_type": "stream",
     "text": [
      "ram\n",
      "ram\n",
      "ram\n",
      "ram\n",
      "ram\n",
      "ram\n",
      "ram\n",
      "ram\n",
      "ram\n",
      "ram\n",
      "over\n"
     ]
    }
   ],
   "source": [
    "\n",
    "x = 1\n",
    "while x<=10:\n",
    "    print(\"ram\")\n",
    "    x = x + 1\n",
    "print(\"over\")"
   ]
  },
  {
   "cell_type": "code",
   "execution_count": 1,
   "id": "90ee5914",
   "metadata": {},
   "outputs": [
    {
     "name": "stdout",
     "output_type": "stream",
     "text": [
      "345\n"
     ]
    }
   ],
   "source": [
    " print(7**3+2)"
   ]
  },
  {
   "cell_type": "code",
   "execution_count": 1,
   "id": "cd717546",
   "metadata": {},
   "outputs": [
    {
     "name": "stdout",
     "output_type": "stream",
     "text": [
      "1\n",
      "2\n",
      "3\n",
      "4\n"
     ]
    }
   ],
   "source": [
    "#for loop\n",
    "s = 1234\n",
    "for j in str(s):\n",
    "    print(j)"
   ]
  },
  {
   "cell_type": "code",
   "execution_count": 9,
   "id": "3c86b6ce",
   "metadata": {},
   "outputs": [
    {
     "name": "stdout",
     "output_type": "stream",
     "text": [
      "2\n",
      "12\n",
      "22\n",
      "32\n",
      "42\n",
      "52\n",
      "62\n",
      "72\n",
      "82\n",
      "92\n"
     ]
    }
   ],
   "source": [
    "# range\n",
    "for i in range(2,101,10):\n",
    "    print(i)"
   ]
  },
  {
   "cell_type": "code",
   "execution_count": 15,
   "id": "336edf25",
   "metadata": {},
   "outputs": [
    {
     "name": "stdout",
     "output_type": "stream",
     "text": [
      "100\n",
      "90\n",
      "80\n",
      "70\n",
      "60\n",
      "50\n",
      "40\n",
      "30\n",
      "20\n",
      "10\n"
     ]
    }
   ],
   "source": [
    "# for reverse order\n",
    "for i in range(100,2,-10):\n",
    "    print(i)"
   ]
  }
 ],
 "metadata": {
  "kernelspec": {
   "display_name": "Python 3 (ipykernel)",
   "language": "python",
   "name": "python3"
  },
  "language_info": {
   "codemirror_mode": {
    "name": "ipython",
    "version": 3
   },
   "file_extension": ".py",
   "mimetype": "text/x-python",
   "name": "python",
   "nbconvert_exporter": "python",
   "pygments_lexer": "ipython3",
   "version": "3.9.12"
  }
 },
 "nbformat": 4,
 "nbformat_minor": 5
}
